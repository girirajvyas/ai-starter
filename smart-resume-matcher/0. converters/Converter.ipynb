{
 "metadata": {
  "language_info": {
   "codemirror_mode": {
    "name": "ipython",
    "version": 3
   },
   "file_extension": ".py",
   "mimetype": "text/x-python",
   "name": "python",
   "nbconvert_exporter": "python",
   "pygments_lexer": "ipython3",
   "version": "3.8.2-final"
  },
  "orig_nbformat": 2,
  "kernelspec": {
   "name": "Python 3.8.2 32-bit",
   "display_name": "Python 3.8.2 32-bit",
   "metadata": {
    "interpreter": {
     "hash": "0a137e0d9e73911d7d821fcdefe3e9038675eb7fe953ac697c453d85e8b0feba"
    }
   }
  }
 },
 "nbformat": 4,
 "nbformat_minor": 2,
 "cells": [
  {
   "source": [
    "#### Fetch all the files specified in a specified folder and create arrays of each file type"
   ],
   "cell_type": "markdown",
   "metadata": {}
  },
  {
   "cell_type": "code",
   "execution_count": 1,
   "metadata": {},
   "outputs": [
    {
     "output_type": "stream",
     "name": "stdout",
     "text": [
      "['Tony_Stark.pdf']\n-----------\n['Black_widow.docx']\n-----------\n['Captain_America.doc', 'Hulk.doc']\n"
     ]
    }
   ],
   "source": [
    "path = 'D:\\\\Sources\\\\smart-matcher\\\\data\\\\dummy\\\\resumes\\\\'\n",
    "\n",
    "pdfFiles = []\n",
    "wordDocxFiles = []\n",
    "wordDocFiles = []\n",
    "\n",
    "for fileName in os.listdir(path):\n",
    "    if(fileName.endswith('.pdf')):\n",
    "        pdfFiles.append(fileName)\n",
    "    elif(fileName.endswith('.docx')):\n",
    "        wordDocxFiles.append(fileName)\n",
    "    elif(fileName.endswith('.doc')):\n",
    "        wordDocFiles.append(fileName)\n",
    "\n",
    "print(pdfFiles)\n",
    "print('-----------')\n",
    "print(wordDocxFiles)\n",
    "print('-----------')\n",
    "print(wordDocFiles)\n"
   ]
  },
  {
   "cell_type": "code",
   "execution_count": 3,
   "metadata": {},
   "outputs": [
    {
     "output_type": "stream",
     "name": "stdout",
     "text": [
      "D:\\Sources\\smart-matcher\\data\\dummy\\resumes_txt\\Black_widow.txt\n"
     ]
    }
   ],
   "source": [
    "import ReadDocx\n",
    "import StringUtils\n",
    "\n",
    "for docxFile in wordDocxFiles:\n",
    "    #docInStr = ReadDocx.getTextViaDocx_v1(path + docxFile)\n",
    "    docInStr = ReadDocx.getTextViaDocx_v2(path + docxFile)\n",
    "    # print(docInStr)\n",
    "    StringUtils.writeStrToTxt(docInStr, docxFile)"
   ]
  },
  {
   "cell_type": "code",
   "execution_count": 4,
   "metadata": {},
   "outputs": [
    {
     "output_type": "stream",
     "name": "stdout",
     "text": [
      "D:\\Sources\\smart-matcher\\data\\dummy\\resumes_txt\\Tony_Stark.txt\n"
     ]
    }
   ],
   "source": [
    "import ReadPDF\n",
    "\n",
    "for pdf in pdfFiles:\n",
    "    pdfInStr = ReadPDF.getTextPdfMiner(path + pdf)\n",
    "    # print(pdfInStr)\n",
    "    StringUtils.writeStrToTxt(pdfInStr, pdf)"
   ]
  },
  {
   "cell_type": "code",
   "execution_count": null,
   "metadata": {},
   "outputs": [],
   "source": []
  }
 ]
}